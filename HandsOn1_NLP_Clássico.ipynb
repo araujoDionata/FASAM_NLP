{
  "nbformat": 4,
  "nbformat_minor": 0,
  "metadata": {
    "colab": {
      "name": "HandsOn1 - NLP Clássico.ipynb",
      "provenance": [],
      "authorship_tag": "ABX9TyOlY79mZCKWQ7XhVLL+Hwia",
      "include_colab_link": true
    },
    "kernelspec": {
      "name": "python3",
      "display_name": "Python 3"
    }
  },
  "cells": [
    {
      "cell_type": "markdown",
      "metadata": {
        "id": "view-in-github",
        "colab_type": "text"
      },
      "source": [
        "<a href=\"https://colab.research.google.com/github/jpvmm/FASAM_NLP/blob/master/HandsOn1_NLP_Cl%C3%A1ssico.ipynb\" target=\"_parent\"><img src=\"https://colab.research.google.com/assets/colab-badge.svg\" alt=\"Open In Colab\"/></a>"
      ]
    },
    {
      "cell_type": "code",
      "metadata": {
        "id": "6q0XpjXslmFA",
        "colab_type": "code",
        "colab": {}
      },
      "source": [
        "#Começando os trabalhos\n",
        "\n",
        "import pandas as pd\n",
        "\n",
        "df_train = pd.read_csv('https://raw.githubusercontent.com/jpvmm/FASAM_NLP/master/train_sample.csv')\n",
        "df_train.head()"
      ],
      "execution_count": 0,
      "outputs": []
    },
    {
      "cell_type": "code",
      "metadata": {
        "id": "6p7ZEFSglvxk",
        "colab_type": "code",
        "colab": {}
      },
      "source": [
        "df_test = pd.read_csv('https://raw.githubusercontent.com/jpvmm/FASAM_NLP/master/test_sample.csv')\n",
        "df_test.head()"
      ],
      "execution_count": 0,
      "outputs": []
    },
    {
      "cell_type": "markdown",
      "metadata": {
        "id": "LyV8engUnoFY",
        "colab_type": "text"
      },
      "source": [
        "# **Análise Exploratória de Dados**\n",
        "\n",
        "\n",
        "---\n",
        "Vamos dar uma olhada o que tem nesse dataset"
      ]
    },
    {
      "cell_type": "markdown",
      "metadata": {
        "id": "vq2mk71RoGEy",
        "colab_type": "text"
      },
      "source": [
        "* Quantos pontos de dados esse dataset possui?\n",
        "* Quantas categorias diferentes os títulos possuem?\n",
        "* Quantos pontos de dados temos por língua?\n",
        "* Quantos pontos de dados por label quality?"
      ]
    },
    {
      "cell_type": "code",
      "metadata": {
        "id": "vZwI6CzmoM7C",
        "colab_type": "code",
        "colab": {}
      },
      "source": [
        "#Pontos de dados\n",
        "df_train['category'].count()"
      ],
      "execution_count": 0,
      "outputs": []
    },
    {
      "cell_type": "code",
      "metadata": {
        "id": "qHWmz_oYmbOF",
        "colab_type": "code",
        "colab": {}
      },
      "source": [
        "#Quantas categorias únicas temos?\n",
        "df_train['category'].nunique()"
      ],
      "execution_count": 0,
      "outputs": []
    },
    {
      "cell_type": "code",
      "metadata": {
        "id": "Kwv_p08SnnFt",
        "colab_type": "code",
        "colab": {}
      },
      "source": [
        "import seaborn as sns\n",
        "sns.countplot(df_train['language'])"
      ],
      "execution_count": 0,
      "outputs": []
    },
    {
      "cell_type": "code",
      "metadata": {
        "id": "RHtwqW_3srhu",
        "colab_type": "code",
        "colab": {}
      },
      "source": [
        "sns.countplot(df_train['label_quality'])"
      ],
      "execution_count": 0,
      "outputs": []
    },
    {
      "cell_type": "markdown",
      "metadata": {
        "id": "9etcOeDQwG5D",
        "colab_type": "text"
      },
      "source": [
        "## Conclusões de EDA:\n",
        "* Duas linguagens!\n",
        "* Dataset bem distribuído entre as linguagens;\n",
        "* Grande quantidade de labels;"
      ]
    },
    {
      "cell_type": "markdown",
      "metadata": {
        "id": "4Q-Dp0Y93wDL",
        "colab_type": "text"
      },
      "source": [
        "# **Começando os trabalhos**\n",
        "\n",
        "\n",
        "---\n",
        "**Pergunta**: Como podemos trabalhar com duas linguages diferentes? Qual estratégia poderia ser adotada?\n"
      ]
    },
    {
      "cell_type": "code",
      "metadata": {
        "id": "2t4Uy_2rtiJj",
        "colab_type": "code",
        "colab": {}
      },
      "source": [
        "df_port = df_train[df_train['language']=='portuguese']\n",
        "df_spani = df_train[df_train['language']=='spanish']"
      ],
      "execution_count": 0,
      "outputs": []
    },
    {
      "cell_type": "code",
      "metadata": {
        "id": "KHyEpeYj-73v",
        "colab_type": "code",
        "colab": {}
      },
      "source": [
        "import nltk\n",
        "from nltk.corpus import stopwords\n",
        "\n",
        "nltk.download('stopwords')"
      ],
      "execution_count": 0,
      "outputs": []
    },
    {
      "cell_type": "code",
      "metadata": {
        "id": "xRLT5LjZ_hxi",
        "colab_type": "code",
        "colab": {}
      },
      "source": [
        "#Alguns exemplos de stopwords\n",
        "stops = set(stopwords.words('portuguese'))\n",
        "\n",
        "stops"
      ],
      "execution_count": 0,
      "outputs": []
    },
    {
      "cell_type": "code",
      "metadata": {
        "id": "A6av5eJG_q13",
        "colab_type": "code",
        "colab": {}
      },
      "source": [
        "#Função pra limpeza de documentos\n",
        "import re\n",
        "import string\n",
        "def limpaTexto(texto):\n",
        "\n",
        "  tokens = texto.split()\n",
        "\n",
        "  #Regex para filtro de caracteres\n",
        "  re_puc = re.compile('[%s]' % re.escape(string.punctuation))\n",
        "  #Remoção de pontuação\n",
        "  tokens = [re_puc.sub('', w ) for w in tokens]\n",
        "  #Remoção de tokens não alfabéticos\n",
        "  tokens = [word for word in tokens if word.isalpha()]\n",
        "  #Remoção de stopwords\n",
        "  stop_words = set(stopwords.words('portuguese'))\n",
        "\n",
        "  tokens = [w for w in tokens if not w in stop_words]\n",
        "  tokens = [word for word in tokens if len(word) > 1]\n",
        "  tokens = ' '.join(tokens)\n",
        "\n",
        "  return tokens\n"
      ],
      "execution_count": 0,
      "outputs": []
    },
    {
      "cell_type": "code",
      "metadata": {
        "id": "alik5HbBCs6R",
        "colab_type": "code",
        "colab": {}
      },
      "source": [
        "df_port['title'] = df_port['title'].apply(limpaTexto)\n",
        "\n",
        "df_port.head()"
      ],
      "execution_count": 0,
      "outputs": []
    },
    {
      "cell_type": "code",
      "metadata": {
        "id": "uxIcd4TJahWn",
        "colab_type": "code",
        "colab": {}
      },
      "source": [
        "y = df_port['category'].values\n",
        "x = df_port['title']"
      ],
      "execution_count": 0,
      "outputs": []
    },
    {
      "cell_type": "code",
      "metadata": {
        "id": "t1bIl_3uhfsF",
        "colab_type": "code",
        "colab": {}
      },
      "source": [
        "from sklearn.svm import LinearSVC\n",
        "from sklearn.pipeline import Pipeline\n",
        "from sklearn.feature_extraction.text import CountVectorizer, TfidfVectorizer\n",
        "from sklearn.metrics import classification_report, accuracy_score, confusion_matrix\n",
        "from sklearn.model_selection import train_test_split"
      ],
      "execution_count": 0,
      "outputs": []
    },
    {
      "cell_type": "code",
      "metadata": {
        "id": "aXJIGlkmh1_q",
        "colab_type": "code",
        "colab": {}
      },
      "source": [
        "x_train, x_test, y_train, y_test = train_test_split(x,y, test_size = 0.1)"
      ],
      "execution_count": 0,
      "outputs": []
    },
    {
      "cell_type": "code",
      "metadata": {
        "id": "_aDnPIWmjgjk",
        "colab_type": "code",
        "colab": {}
      },
      "source": [
        "clf = Pipeline([('tfidf', TfidfVectorizer(lowercase=True, ngram_range=(1,1))),\n",
        "                ('clf', LinearSVC())])"
      ],
      "execution_count": 0,
      "outputs": []
    },
    {
      "cell_type": "code",
      "metadata": {
        "id": "54WG18g7vC9w",
        "colab_type": "code",
        "colab": {}
      },
      "source": [
        "clf.fit(x_train, y_train)"
      ],
      "execution_count": 0,
      "outputs": []
    },
    {
      "cell_type": "code",
      "metadata": {
        "id": "LbSKcryavxeN",
        "colab_type": "code",
        "colab": {}
      },
      "source": [
        "y_pred = clf.predict(x_test)\n",
        "print(classification_report(y_test, y_pred))"
      ],
      "execution_count": 0,
      "outputs": []
    },
    {
      "cell_type": "markdown",
      "metadata": {
        "id": "X6UaP2fIx2MX",
        "colab_type": "text"
      },
      "source": [
        "## Modelo para Espanhol"
      ]
    },
    {
      "cell_type": "code",
      "metadata": {
        "id": "5wsgnxNgwMSs",
        "colab_type": "code",
        "colab": {}
      },
      "source": [
        "stops_spani = set(stopwords.words('spanish'))\n",
        "stops_spani"
      ],
      "execution_count": 0,
      "outputs": []
    },
    {
      "cell_type": "code",
      "metadata": {
        "id": "MZe4m9kxyDph",
        "colab_type": "code",
        "colab": {}
      },
      "source": [
        "import re\n",
        "import string\n",
        "def limpaTextoSpani(texto):\n",
        "\n",
        "  tokens = texto.split()\n",
        "\n",
        "  #Regex para filtro de caracteres\n",
        "  re_puc = re.compile('[%s]' % re.escape(string.punctuation))\n",
        "  #Remoção de pontuação\n",
        "  tokens = [re_puc.sub('', w ) for w in tokens]\n",
        "  #Remoção de tokens não alfabéticos\n",
        "  tokens = [word for word in tokens if word.isalpha()]\n",
        "  #Remoção de stopwords\n",
        "  stop_words = set(stopwords.words('spanish'))\n",
        "\n",
        "  tokens = [w for w in tokens if not w in stop_words]\n",
        "  tokens = [word for word in tokens if len(word) > 1]\n",
        "  tokens = ' '.join(tokens)\n",
        "\n",
        "  return tokens\n",
        "\n",
        "df_spani['title'] = df_spani['title'].apply(limpaTextoSpani)\n",
        "\n",
        "df_spani.head()"
      ],
      "execution_count": 0,
      "outputs": []
    },
    {
      "cell_type": "code",
      "metadata": {
        "id": "PO7HJSLKyWvt",
        "colab_type": "code",
        "colab": {}
      },
      "source": [
        "ys = df_spani['category'].values\n",
        "xs = df_spani['title']\n",
        "\n",
        "x_train, x_test, y_train, y_test = train_test_split(xs,ys, test_size = 0.1)"
      ],
      "execution_count": 0,
      "outputs": []
    },
    {
      "cell_type": "code",
      "metadata": {
        "id": "hRmT2CQSykkS",
        "colab_type": "code",
        "colab": {}
      },
      "source": [
        "clf2 = Pipeline([('tfidf', TfidfVectorizer(lowercase=True, ngram_range=(1,1))),\n",
        "                ('clf', LinearSVC())])\n",
        "\n",
        "clf2.fit(x_train, y_train)"
      ],
      "execution_count": 0,
      "outputs": []
    },
    {
      "cell_type": "code",
      "metadata": {
        "id": "2doyh7MTyqU_",
        "colab_type": "code",
        "colab": {}
      },
      "source": [
        "y_pred = clf2.predict(x_test)\n",
        "print(classification_report(y_test, y_pred))"
      ],
      "execution_count": 0,
      "outputs": []
    },
    {
      "cell_type": "code",
      "metadata": {
        "id": "4TDhtWdHy97t",
        "colab_type": "code",
        "colab": {}
      },
      "source": [
        "accuracy_score(y_test, y_pred)"
      ],
      "execution_count": 0,
      "outputs": []
    },
    {
      "cell_type": "code",
      "metadata": {
        "id": "us_wXJqazFXY",
        "colab_type": "code",
        "colab": {}
      },
      "source": [
        ""
      ],
      "execution_count": 0,
      "outputs": []
    }
  ]
}